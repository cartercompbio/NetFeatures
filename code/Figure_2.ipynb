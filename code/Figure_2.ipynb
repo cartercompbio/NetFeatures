{
 "cells": [
  {
   "cell_type": "code",
   "execution_count": 2,
   "metadata": {},
   "outputs": [],
   "source": [
    "import numpy as np\n",
    "import pandas as pd\n",
    "\n",
    "import networkx as nx\n",
    "import scipy.stats\n",
    "from statannot import add_stat_annotation\n",
    "from matplotlib_venn import venn3_unweighted\n",
    "\n",
    "import matplotlib.pyplot as plt\n",
    "import seaborn as sns\n",
    "sns.set_style('white')\n",
    "%matplotlib inline\n",
    "\n",
    "import matplotlib as mpl\n",
    "mpl.rcParams['pdf.fonttype'] = 42"
   ]
  },
  {
   "cell_type": "markdown",
   "metadata": {},
   "source": [
    "### Define Functions"
   ]
  },
  {
   "cell_type": "code",
   "execution_count": 17,
   "metadata": {},
   "outputs": [],
   "source": [
    "def get_degree_centrality(prots, cent_dict):\n",
    "    cancer_c_arr = list()\n",
    "    mendelian_c_arr = list()\n",
    "    other_c_arr = list()\n",
    "    for unip in prots:\n",
    "        degree = cent_dict[unip]\n",
    "        if unip in cancer_genes:\n",
    "            cancer_c_arr.append([unip, degree])\n",
    "        if unip in omim_genes:\n",
    "            mendelian_c_arr.append([unip, degree])  \n",
    "        if unip not in cancer_genes and unip not in omim_genes:\n",
    "            other_c_arr.append([unip, degree])\n",
    "\n",
    "    arr1 = [[unip,degree*(len(prots)-1),'Cancer\\ndriver'] for unip,degree in cancer_c_arr]\n",
    "    arr2 = [[unip,degree*(len(prots)-1),'Mendelian\\ndisease'] for unip,degree in mendelian_c_arr]\n",
    "    arr3 = [[unip,degree*(len(prots)-1),'Other'] for unip,degree in other_c_arr]\n",
    "    arr_tot = arr1 + arr2 + arr3\n",
    "\n",
    "    cent_df = pd.DataFrame(arr_tot, columns=['unip','degree','type'])\n",
    "    return(cent_df)"
   ]
  },
  {
   "cell_type": "code",
   "execution_count": 18,
   "metadata": {},
   "outputs": [],
   "source": [
    "def get_centrality(prots, cent_dict):\n",
    "    cancer_c_arr = list()\n",
    "    mendelian_c_arr = list()\n",
    "    other_c_arr = list()\n",
    "    for unip in prots:\n",
    "        degree = cent_dict[unip]\n",
    "        if unip in cancer_genes:\n",
    "            cancer_c_arr.append([unip, degree])\n",
    "        if unip in omim_genes:\n",
    "            mendelian_c_arr.append([unip, degree])  \n",
    "        if unip not in cancer_genes and unip not in omim_genes:\n",
    "            other_c_arr.append([unip, degree])\n",
    "\n",
    "    arr1 = [[unip,degree,'Cancer\\ndriver'] for unip,degree in cancer_c_arr]\n",
    "    arr2 = [[unip,degree,'Mendelian\\ndisease'] for unip,degree in mendelian_c_arr]\n",
    "    arr3 = [[unip,degree,'Other'] for unip,degree in other_c_arr]\n",
    "    arr_tot = arr1 + arr2 + arr3\n",
    "\n",
    "    cent_df = pd.DataFrame(arr_tot, columns=['unip','degree','type'])\n",
    "    return(cent_df)"
   ]
  },
  {
   "cell_type": "markdown",
   "metadata": {},
   "source": [
    "### Read STRING PPI network"
   ]
  },
  {
   "cell_type": "markdown",
   "metadata": {},
   "source": [
    "The following PPI network is downloaded from the STRING database v11 with the following link: https://stringdb-static.org/download/protein.links.detailed.v11.0/9606.protein.links.detailed.v11.0.txt.gz\n",
    "Only the experimentally verified interactions with a confidence score higher than 0.4 (400 in the file) are extracted which produced a network of 12811 proteins with 97376 undirected interactions where proteins are listed using Ensembl Protein IDs. Then these ENSP IDs are converted to UniProt IDs which resulted in some duplicates (and some ENSP IDs do not map to UniProt IDs) which resulted in a PPI network of 11851 proteins with 84114 undirected interactions. This network is used for the following analysis."
   ]
  },
  {
   "cell_type": "code",
   "execution_count": 4,
   "metadata": {},
   "outputs": [
    {
     "name": "stdout",
     "output_type": "stream",
     "text": [
      "(84114, 2)\n"
     ]
    },
    {
     "data": {
      "text/html": [
       "<div>\n",
       "<style scoped>\n",
       "    .dataframe tbody tr th:only-of-type {\n",
       "        vertical-align: middle;\n",
       "    }\n",
       "\n",
       "    .dataframe tbody tr th {\n",
       "        vertical-align: top;\n",
       "    }\n",
       "\n",
       "    .dataframe thead th {\n",
       "        text-align: right;\n",
       "    }\n",
       "</style>\n",
       "<table border=\"1\" class=\"dataframe\">\n",
       "  <thead>\n",
       "    <tr style=\"text-align: right;\">\n",
       "      <th></th>\n",
       "      <th>protein1</th>\n",
       "      <th>protein2</th>\n",
       "    </tr>\n",
       "  </thead>\n",
       "  <tbody>\n",
       "    <tr>\n",
       "      <td>0</td>\n",
       "      <td>P84085</td>\n",
       "      <td>Q10567</td>\n",
       "    </tr>\n",
       "    <tr>\n",
       "      <td>1</td>\n",
       "      <td>P84085</td>\n",
       "      <td>P63010</td>\n",
       "    </tr>\n",
       "    <tr>\n",
       "      <td>2</td>\n",
       "      <td>P84085</td>\n",
       "      <td>P51649</td>\n",
       "    </tr>\n",
       "    <tr>\n",
       "      <td>3</td>\n",
       "      <td>P84085</td>\n",
       "      <td>O43739</td>\n",
       "    </tr>\n",
       "    <tr>\n",
       "      <td>4</td>\n",
       "      <td>P84085</td>\n",
       "      <td>Q9Y617</td>\n",
       "    </tr>\n",
       "  </tbody>\n",
       "</table>\n",
       "</div>"
      ],
      "text/plain": [
       "  protein1 protein2\n",
       "0   P84085   Q10567\n",
       "1   P84085   P63010\n",
       "2   P84085   P51649\n",
       "3   P84085   O43739\n",
       "4   P84085   Q9Y617"
      ]
     },
     "execution_count": 4,
     "metadata": {},
     "output_type": "execute_result"
    }
   ],
   "source": [
    "string_df = pd.read_table('../data/string_network_experimental_0.4_unips.txt')\n",
    "string_df = string_df.drop_duplicates()\n",
    "print(string_df.shape)\n",
    "string_df.head()"
   ]
  },
  {
   "cell_type": "code",
   "execution_count": 6,
   "metadata": {},
   "outputs": [
    {
     "name": "stdout",
     "output_type": "stream",
     "text": [
      "11851 ['A0A075B759', 'A0A075B767', 'A0A087WWA1', 'A0A096LP55', 'A0A0B4J2A2']\n"
     ]
    }
   ],
   "source": [
    "string_unips = list(np.unique(string_df.values))\n",
    "print(len(string_unips), string_unips[:5])"
   ]
  },
  {
   "cell_type": "markdown",
   "metadata": {},
   "source": [
    "### Read 125 known cancer driver genes from Vogelstein et al., 2013"
   ]
  },
  {
   "cell_type": "markdown",
   "metadata": {},
   "source": [
    "A list of 125 cancer genes is obtained from Vogelstein et al., 2013 (https://pubmed.ncbi.nlm.nih.gov/23539594/) which are listed using HGNC gene symbols. These gene symbols are converted to UniProt protein IDs, which map to 127 proteins used for the following analysis."
   ]
  },
  {
   "cell_type": "code",
   "execution_count": 8,
   "metadata": {},
   "outputs": [
    {
     "name": "stdout",
     "output_type": "stream",
     "text": [
      "127 ['O00255', 'O14497', 'O14686', 'O15169', 'O15524']\n"
     ]
    }
   ],
   "source": [
    "infile = open('../data/cancer_genes_vogelstein_unips.txt','r')\n",
    "cancer_genes = infile.read().strip().split('\\n')\n",
    "print(len(cancer_genes), cancer_genes[:5])\n",
    "infile.close()"
   ]
  },
  {
   "cell_type": "markdown",
   "metadata": {},
   "source": [
    "### Read Mendelian genes from the OMIM database"
   ]
  },
  {
   "cell_type": "markdown",
   "metadata": {},
   "source": [
    "A list of 4524 Mendelian genes is obtained from the OMIM database and converted from their original HGNC gene symbols to UniProt protein IDs for the following analysis."
   ]
  },
  {
   "cell_type": "code",
   "execution_count": 11,
   "metadata": {},
   "outputs": [
    {
     "name": "stdout",
     "output_type": "stream",
     "text": [
      "4524 ['A0A1W2PR82', 'A0PJY2', 'A0PK11', 'A1A4Y4', 'A1L188']\n"
     ]
    }
   ],
   "source": [
    "infile = open('../data/omim_genes_unips.txt','r')\n",
    "omim_genes = infile.read().strip().split('\\n')\n",
    "print(len(omim_genes), omim_genes[:5])\n",
    "infile.close()"
   ]
  },
  {
   "cell_type": "markdown",
   "metadata": {},
   "source": [
    "### Look at the overlap between the 3 UniProt protein groups"
   ]
  },
  {
   "cell_type": "code",
   "execution_count": 12,
   "metadata": {},
   "outputs": [
    {
     "name": "stdout",
     "output_type": "stream",
     "text": [
      "11851 ['A0A075B759', 'A0A075B767', 'A0A087WWA1', 'A0A096LP55', 'A0A0B4J2A2']\n",
      "127 ['O00255', 'O14497', 'O14686', 'O15169', 'O15524']\n",
      "4524 ['A0A1W2PR82', 'A0PJY2', 'A0PK11', 'A1A4Y4', 'A1L188']\n"
     ]
    }
   ],
   "source": [
    "print(len(string_unips), string_unips[:5])\n",
    "print(len(cancer_genes), cancer_genes[:5])\n",
    "print(len(omim_genes), omim_genes[:5])"
   ]
  },
  {
   "cell_type": "code",
   "execution_count": 13,
   "metadata": {},
   "outputs": [
    {
     "data": {
      "image/png": "[encoded data removed]",
      "text/plain": [
       "<Figure size 432x288 with 1 Axes>"
      ]
     },
     "metadata": {},
     "output_type": "display_data"
    }
   ],
   "source": [
    "set1 = set(string_unips)\n",
    "set2 = set(cancer_genes)\n",
    "set3 = set(omim_genes)\n",
    "\n",
    "venn3_unweighted([set1, set2, set3], ('STRING', 'Cancer', 'Mendelian'))\n",
    "plt.show()"
   ]
  },
  {
   "cell_type": "markdown",
   "metadata": {},
   "source": [
    "### Compute network centrality features"
   ]
  },
  {
   "cell_type": "markdown",
   "metadata": {},
   "source": [
    "#### Create a graph"
   ]
  },
  {
   "cell_type": "code",
   "execution_count": 15,
   "metadata": {},
   "outputs": [
    {
     "name": "stdout",
     "output_type": "stream",
     "text": [
      "11851\n",
      "84024\n"
     ]
    }
   ],
   "source": [
    "# The following is the size of the STRING PPI network when using UniProt IDs\n",
    "G = nx.Graph()\n",
    "G.add_edges_from(string_df.values)\n",
    "print(len(G.nodes()))\n",
    "print(len(G.edges()))\n",
    "prots = list(G.nodes())"
   ]
  },
  {
   "cell_type": "code",
   "execution_count": 16,
   "metadata": {},
   "outputs": [
    {
     "name": "stdout",
     "output_type": "stream",
     "text": [
      "127 4524 11851\n"
     ]
    }
   ],
   "source": [
    "print(len(cancer_genes), len(omim_genes), len(prots))"
   ]
  },
  {
   "cell_type": "markdown",
   "metadata": {},
   "source": [
    "#### Compute degree centrality"
   ]
  },
  {
   "cell_type": "code",
   "execution_count": 19,
   "metadata": {},
   "outputs": [],
   "source": [
    "degree_dict = nx.degree_centrality(G)"
   ]
  },
  {
   "cell_type": "code",
   "execution_count": 20,
   "metadata": {},
   "outputs": [
    {
     "data": {
      "text/html": [
       "<div>\n",
       "<style scoped>\n",
       "    .dataframe tbody tr th:only-of-type {\n",
       "        vertical-align: middle;\n",
       "    }\n",
       "\n",
       "    .dataframe tbody tr th {\n",
       "        vertical-align: top;\n",
       "    }\n",
       "\n",
       "    .dataframe thead th {\n",
       "        text-align: right;\n",
       "    }\n",
       "</style>\n",
       "<table border=\"1\" class=\"dataframe\">\n",
       "  <thead>\n",
       "    <tr style=\"text-align: right;\">\n",
       "      <th></th>\n",
       "      <th>unip</th>\n",
       "      <th>degree</th>\n",
       "      <th>type</th>\n",
       "    </tr>\n",
       "  </thead>\n",
       "  <tbody>\n",
       "    <tr>\n",
       "      <td>0</td>\n",
       "      <td>Q92793</td>\n",
       "      <td>211.0</td>\n",
       "      <td>Cancer\\ndriver</td>\n",
       "    </tr>\n",
       "    <tr>\n",
       "      <td>1</td>\n",
       "      <td>Q13315</td>\n",
       "      <td>42.0</td>\n",
       "      <td>Cancer\\ndriver</td>\n",
       "    </tr>\n",
       "    <tr>\n",
       "      <td>2</td>\n",
       "      <td>P43246</td>\n",
       "      <td>61.0</td>\n",
       "      <td>Cancer\\ndriver</td>\n",
       "    </tr>\n",
       "    <tr>\n",
       "      <td>3</td>\n",
       "      <td>P52701</td>\n",
       "      <td>27.0</td>\n",
       "      <td>Cancer\\ndriver</td>\n",
       "    </tr>\n",
       "    <tr>\n",
       "      <td>4</td>\n",
       "      <td>O75376</td>\n",
       "      <td>74.0</td>\n",
       "      <td>Cancer\\ndriver</td>\n",
       "    </tr>\n",
       "  </tbody>\n",
       "</table>\n",
       "</div>"
      ],
      "text/plain": [
       "     unip  degree            type\n",
       "0  Q92793   211.0  Cancer\\ndriver\n",
       "1  Q13315    42.0  Cancer\\ndriver\n",
       "2  P43246    61.0  Cancer\\ndriver\n",
       "3  P52701    27.0  Cancer\\ndriver\n",
       "4  O75376    74.0  Cancer\\ndriver"
      ]
     },
     "execution_count": 20,
     "metadata": {},
     "output_type": "execute_result"
    }
   ],
   "source": [
    "degree_df = get_degree_centrality(prots, degree_dict)\n",
    "degree_df.head()"
   ]
  },
  {
   "cell_type": "code",
   "execution_count": 22,
   "metadata": {},
   "outputs": [],
   "source": [
    "degree_df.to_csv('../out/gen_data/string_degree.txt',sep='\\t',index=False)"
   ]
  },
  {
   "cell_type": "markdown",
   "metadata": {},
   "source": [
    "#### Compute betweenness centrality"
   ]
  },
  {
   "cell_type": "code",
   "execution_count": 23,
   "metadata": {},
   "outputs": [],
   "source": [
    "between_dict = nx.betweenness_centrality(G)"
   ]
  },
  {
   "cell_type": "code",
   "execution_count": 24,
   "metadata": {},
   "outputs": [
    {
     "data": {
      "text/html": [
       "<div>\n",
       "<style scoped>\n",
       "    .dataframe tbody tr th:only-of-type {\n",
       "        vertical-align: middle;\n",
       "    }\n",
       "\n",
       "    .dataframe tbody tr th {\n",
       "        vertical-align: top;\n",
       "    }\n",
       "\n",
       "    .dataframe thead th {\n",
       "        text-align: right;\n",
       "    }\n",
       "</style>\n",
       "<table border=\"1\" class=\"dataframe\">\n",
       "  <thead>\n",
       "    <tr style=\"text-align: right;\">\n",
       "      <th></th>\n",
       "      <th>unip</th>\n",
       "      <th>degree</th>\n",
       "      <th>type</th>\n",
       "    </tr>\n",
       "  </thead>\n",
       "  <tbody>\n",
       "    <tr>\n",
       "      <td>0</td>\n",
       "      <td>Q92793</td>\n",
       "      <td>0.016290</td>\n",
       "      <td>Cancer\\ndriver</td>\n",
       "    </tr>\n",
       "    <tr>\n",
       "      <td>1</td>\n",
       "      <td>Q13315</td>\n",
       "      <td>0.000509</td>\n",
       "      <td>Cancer\\ndriver</td>\n",
       "    </tr>\n",
       "    <tr>\n",
       "      <td>2</td>\n",
       "      <td>P43246</td>\n",
       "      <td>0.001487</td>\n",
       "      <td>Cancer\\ndriver</td>\n",
       "    </tr>\n",
       "    <tr>\n",
       "      <td>3</td>\n",
       "      <td>P52701</td>\n",
       "      <td>0.000232</td>\n",
       "      <td>Cancer\\ndriver</td>\n",
       "    </tr>\n",
       "    <tr>\n",
       "      <td>4</td>\n",
       "      <td>O75376</td>\n",
       "      <td>0.002120</td>\n",
       "      <td>Cancer\\ndriver</td>\n",
       "    </tr>\n",
       "  </tbody>\n",
       "</table>\n",
       "</div>"
      ],
      "text/plain": [
       "     unip    degree            type\n",
       "0  Q92793  0.016290  Cancer\\ndriver\n",
       "1  Q13315  0.000509  Cancer\\ndriver\n",
       "2  P43246  0.001487  Cancer\\ndriver\n",
       "3  P52701  0.000232  Cancer\\ndriver\n",
       "4  O75376  0.002120  Cancer\\ndriver"
      ]
     },
     "execution_count": 24,
     "metadata": {},
     "output_type": "execute_result"
    }
   ],
   "source": [
    "between_df = get_centrality(prots, between_dict)\n",
    "between_df.head()"
   ]
  },
  {
   "cell_type": "code",
   "execution_count": 25,
   "metadata": {},
   "outputs": [],
   "source": [
    "between_df.to_csv('../out/gen_data/string_betweenness.txt',sep='\\t',index=False)"
   ]
  },
  {
   "cell_type": "markdown",
   "metadata": {},
   "source": [
    "#### Compute closeness centrality"
   ]
  },
  {
   "cell_type": "code",
   "execution_count": 26,
   "metadata": {},
   "outputs": [],
   "source": [
    "close_dict = nx.closeness_centrality(G)"
   ]
  },
  {
   "cell_type": "code",
   "execution_count": 27,
   "metadata": {},
   "outputs": [
    {
     "data": {
      "text/html": [
       "<div>\n",
       "<style scoped>\n",
       "    .dataframe tbody tr th:only-of-type {\n",
       "        vertical-align: middle;\n",
       "    }\n",
       "\n",
       "    .dataframe tbody tr th {\n",
       "        vertical-align: top;\n",
       "    }\n",
       "\n",
       "    .dataframe thead th {\n",
       "        text-align: right;\n",
       "    }\n",
       "</style>\n",
       "<table border=\"1\" class=\"dataframe\">\n",
       "  <thead>\n",
       "    <tr style=\"text-align: right;\">\n",
       "      <th></th>\n",
       "      <th>unip</th>\n",
       "      <th>degree</th>\n",
       "      <th>type</th>\n",
       "    </tr>\n",
       "  </thead>\n",
       "  <tbody>\n",
       "    <tr>\n",
       "      <td>0</td>\n",
       "      <td>Q92793</td>\n",
       "      <td>0.308803</td>\n",
       "      <td>Cancer\\ndriver</td>\n",
       "    </tr>\n",
       "    <tr>\n",
       "      <td>1</td>\n",
       "      <td>Q13315</td>\n",
       "      <td>0.272794</td>\n",
       "      <td>Cancer\\ndriver</td>\n",
       "    </tr>\n",
       "    <tr>\n",
       "      <td>2</td>\n",
       "      <td>P43246</td>\n",
       "      <td>0.278392</td>\n",
       "      <td>Cancer\\ndriver</td>\n",
       "    </tr>\n",
       "    <tr>\n",
       "      <td>3</td>\n",
       "      <td>P52701</td>\n",
       "      <td>0.270482</td>\n",
       "      <td>Cancer\\ndriver</td>\n",
       "    </tr>\n",
       "    <tr>\n",
       "      <td>4</td>\n",
       "      <td>O75376</td>\n",
       "      <td>0.283476</td>\n",
       "      <td>Cancer\\ndriver</td>\n",
       "    </tr>\n",
       "  </tbody>\n",
       "</table>\n",
       "</div>"
      ],
      "text/plain": [
       "     unip    degree            type\n",
       "0  Q92793  0.308803  Cancer\\ndriver\n",
       "1  Q13315  0.272794  Cancer\\ndriver\n",
       "2  P43246  0.278392  Cancer\\ndriver\n",
       "3  P52701  0.270482  Cancer\\ndriver\n",
       "4  O75376  0.283476  Cancer\\ndriver"
      ]
     },
     "execution_count": 27,
     "metadata": {},
     "output_type": "execute_result"
    }
   ],
   "source": [
    "close_df = get_centrality(prots, close_dict)\n",
    "close_df.head()"
   ]
  },
  {
   "cell_type": "code",
   "execution_count": 28,
   "metadata": {},
   "outputs": [],
   "source": [
    "close_df.to_csv('../out/gen_data/string_closeness.txt',sep='\\t',index=False)"
   ]
  },
  {
   "cell_type": "markdown",
   "metadata": {},
   "source": [
    "#### Compute eigenvector centrality"
   ]
  },
  {
   "cell_type": "code",
   "execution_count": 29,
   "metadata": {},
   "outputs": [],
   "source": [
    "eigen_dict = nx.eigenvector_centrality(G,max_iter=1000)"
   ]
  },
  {
   "cell_type": "code",
   "execution_count": 30,
   "metadata": {},
   "outputs": [
    {
     "data": {
      "text/html": [
       "<div>\n",
       "<style scoped>\n",
       "    .dataframe tbody tr th:only-of-type {\n",
       "        vertical-align: middle;\n",
       "    }\n",
       "\n",
       "    .dataframe tbody tr th {\n",
       "        vertical-align: top;\n",
       "    }\n",
       "\n",
       "    .dataframe thead th {\n",
       "        text-align: right;\n",
       "    }\n",
       "</style>\n",
       "<table border=\"1\" class=\"dataframe\">\n",
       "  <thead>\n",
       "    <tr style=\"text-align: right;\">\n",
       "      <th></th>\n",
       "      <th>unip</th>\n",
       "      <th>degree</th>\n",
       "      <th>type</th>\n",
       "    </tr>\n",
       "  </thead>\n",
       "  <tbody>\n",
       "    <tr>\n",
       "      <td>0</td>\n",
       "      <td>Q92793</td>\n",
       "      <td>0.000639</td>\n",
       "      <td>Cancer\\ndriver</td>\n",
       "    </tr>\n",
       "    <tr>\n",
       "      <td>1</td>\n",
       "      <td>Q13315</td>\n",
       "      <td>0.000147</td>\n",
       "      <td>Cancer\\ndriver</td>\n",
       "    </tr>\n",
       "    <tr>\n",
       "      <td>2</td>\n",
       "      <td>P43246</td>\n",
       "      <td>0.000433</td>\n",
       "      <td>Cancer\\ndriver</td>\n",
       "    </tr>\n",
       "    <tr>\n",
       "      <td>3</td>\n",
       "      <td>P52701</td>\n",
       "      <td>0.000189</td>\n",
       "      <td>Cancer\\ndriver</td>\n",
       "    </tr>\n",
       "    <tr>\n",
       "      <td>4</td>\n",
       "      <td>O75376</td>\n",
       "      <td>0.000227</td>\n",
       "      <td>Cancer\\ndriver</td>\n",
       "    </tr>\n",
       "  </tbody>\n",
       "</table>\n",
       "</div>"
      ],
      "text/plain": [
       "     unip    degree            type\n",
       "0  Q92793  0.000639  Cancer\\ndriver\n",
       "1  Q13315  0.000147  Cancer\\ndriver\n",
       "2  P43246  0.000433  Cancer\\ndriver\n",
       "3  P52701  0.000189  Cancer\\ndriver\n",
       "4  O75376  0.000227  Cancer\\ndriver"
      ]
     },
     "execution_count": 30,
     "metadata": {},
     "output_type": "execute_result"
    }
   ],
   "source": [
    "eigen_df = get_centrality(prots, eigen_dict)\n",
    "eigen_df.head()"
   ]
  },
  {
   "cell_type": "code",
   "execution_count": 31,
   "metadata": {},
   "outputs": [],
   "source": [
    "eigen_df.to_csv('../out/gen_data/string_eigenvector.txt',sep='\\t',index=False)"
   ]
  },
  {
   "cell_type": "markdown",
   "metadata": {},
   "source": [
    "### Figure 2"
   ]
  },
  {
   "cell_type": "code",
   "execution_count": 32,
   "metadata": {},
   "outputs": [],
   "source": [
    "mpl.rc('figure', titlesize=10)\n",
    "mpl.rc('axes', labelsize=11)\n",
    "mpl.rc('xtick', labelsize=9)\n",
    "mpl.rc('ytick', labelsize=9)"
   ]
  },
  {
   "cell_type": "code",
   "execution_count": 34,
   "metadata": {},
   "outputs": [
    {
     "name": "stdout",
     "output_type": "stream",
     "text": [
      "p-value annotation legend:\n",
      "ns: 5.00e-02 < p <= 1.00e+00\n",
      "*: 1.00e-02 < p <= 5.00e-02\n",
      "**: 1.00e-03 < p <= 1.00e-02\n",
      "***: 1.00e-04 < p <= 1.00e-03\n",
      "****: p <= 1.00e-04\n",
      "\n",
      "Mendelian\n",
      "disease v.s. Other: Mann-Whitney-Wilcoxon test two-sided with Bonferroni correction, P_val=2.110e-17 U_stat=1.556e+07\n",
      "Cancer\n",
      "driver v.s. Mendelian\n",
      "disease: Mann-Whitney-Wilcoxon test two-sided with Bonferroni correction, P_val=1.931e-28 U_stat=2.958e+05\n",
      "Cancer\n",
      "driver v.s. Other: Mann-Whitney-Wilcoxon test two-sided with Bonferroni correction, P_val=7.652e-34 U_stat=7.845e+05\n",
      "p-value annotation legend:\n",
      "ns: 5.00e-02 < p <= 1.00e+00\n",
      "*: 1.00e-02 < p <= 5.00e-02\n",
      "**: 1.00e-03 < p <= 1.00e-02\n",
      "***: 1.00e-04 < p <= 1.00e-03\n",
      "****: p <= 1.00e-04\n",
      "\n",
      "Mendelian\n",
      "disease v.s. Other: Mann-Whitney-Wilcoxon test two-sided with Bonferroni correction, P_val=1.050e-40 U_stat=1.636e+07\n",
      "Cancer\n",
      "driver v.s. Mendelian\n",
      "disease: Mann-Whitney-Wilcoxon test two-sided with Bonferroni correction, P_val=2.198e-25 U_stat=2.892e+05\n",
      "Cancer\n",
      "driver v.s. Other: Mann-Whitney-Wilcoxon test two-sided with Bonferroni correction, P_val=9.493e-37 U_stat=7.973e+05\n",
      "p-value annotation legend:\n",
      "ns: 5.00e-02 < p <= 1.00e+00\n",
      "*: 1.00e-02 < p <= 5.00e-02\n",
      "**: 1.00e-03 < p <= 1.00e-02\n",
      "***: 1.00e-04 < p <= 1.00e-03\n",
      "****: p <= 1.00e-04\n",
      "\n",
      "Mendelian\n",
      "disease v.s. Other: Mann-Whitney-Wilcoxon test two-sided with Bonferroni correction, P_val=4.939e-09 U_stat=1.514e+07\n",
      "Cancer\n",
      "driver v.s. Mendelian\n",
      "disease: Mann-Whitney-Wilcoxon test two-sided with Bonferroni correction, P_val=1.296e-34 U_stat=3.083e+05\n",
      "Cancer\n",
      "driver v.s. Other: Mann-Whitney-Wilcoxon test two-sided with Bonferroni correction, P_val=9.149e-41 U_stat=8.185e+05\n",
      "p-value annotation legend:\n",
      "ns: 5.00e-02 < p <= 1.00e+00\n",
      "*: 1.00e-02 < p <= 5.00e-02\n",
      "**: 1.00e-03 < p <= 1.00e-02\n",
      "***: 1.00e-04 < p <= 1.00e-03\n",
      "****: p <= 1.00e-04\n",
      "\n",
      "Mendelian\n",
      "disease v.s. Other: Mann-Whitney-Wilcoxon test two-sided with Bonferroni correction, P_val=1.087e-01 U_stat=1.448e+07\n",
      "Cancer\n",
      "driver v.s. Mendelian\n",
      "disease: Mann-Whitney-Wilcoxon test two-sided with Bonferroni correction, P_val=8.162e-20 U_stat=2.764e+05\n",
      "Cancer\n",
      "driver v.s. Other: Mann-Whitney-Wilcoxon test two-sided with Bonferroni correction, P_val=8.499e-20 U_stat=7.087e+05\n"
     ]
    },
    {
     "data": {
      "image/png": "[encoded data removed]",
      "text/plain": [
       "<Figure size 576x205.2 with 4 Axes>"
      ]
     },
     "metadata": {
      "needs_background": "light"
     },
     "output_type": "display_data"
    }
   ],
   "source": [
    "x = \"type\"\n",
    "y = \"degree\"\n",
    "order = ['Cancer\\ndriver', 'Mendelian\\ndisease', 'Other']\n",
    "flierprops = dict(markerfacecolor = 'lightgrey', markeredgecolor='lightgrey', markersize = 2)\n",
    "\n",
    "fig = plt.figure(figsize=(8, 2.85))\n",
    "\n",
    "plt.subplot(1, 4, 1)\n",
    "df = degree_df.copy()\n",
    "ax1 = sns.boxplot(x=x, y=y, order=order, data=df, flierprops=flierprops, linewidth=1)\n",
    "plt.xlabel('')\n",
    "plt.ylabel('Degree')\n",
    "plt.xticks(rotation=45)\n",
    "plt.ylim(0,65)\n",
    "add_stat_annotation(ax1, data=df, x=x, y=y, order=order,\n",
    "                    box_pairs=[(\"Cancer\\ndriver\", \"Other\"), (\"Mendelian\\ndisease\", \"Other\"),\n",
    "                              (\"Cancer\\ndriver\", \"Mendelian\\ndisease\")],\n",
    "                    test='Mann-Whitney',\n",
    "                    text_format='star', loc='outside', verbose=2, linewidth=1,\n",
    "                    line_offset=0.08, text_offset=0.1)\n",
    "plt.ylim(0,105)\n",
    "\n",
    "plt.subplot(1, 4, 2)\n",
    "df = between_df.copy()\n",
    "ax2 = sns.boxplot(x=x, y=y, order=order, data=df, flierprops=flierprops, linewidth=1)\n",
    "plt.xlabel('')\n",
    "plt.ylabel('Betweenness')\n",
    "plt.xticks(rotation=45)\n",
    "plt.ylim(0,0.0031)\n",
    "add_stat_annotation(ax2, data=df, x=x, y=y, order=order,\n",
    "                    box_pairs=[(\"Cancer\\ndriver\", \"Other\"), (\"Mendelian\\ndisease\", \"Other\"),\n",
    "                              (\"Cancer\\ndriver\", \"Mendelian\\ndisease\")],\n",
    "                    test='Mann-Whitney',\n",
    "                    text_format='star', loc='outside', verbose=2, linewidth=1,\n",
    "                    line_offset=0.08, text_offset=0.1)\n",
    "plt.ylim(0,0.005)\n",
    "\n",
    "plt.subplot(1, 4, 3)\n",
    "df = close_df.copy()\n",
    "ax3 = sns.boxplot(x=x, y=y, order=order, data=df, flierprops=flierprops, linewidth=1)\n",
    "plt.xlabel('')\n",
    "plt.ylabel('Closeness')\n",
    "plt.xticks(rotation=45)\n",
    "plt.ylim(0.1,0.32)\n",
    "add_stat_annotation(ax3, data=df, x=x, y=y, order=order,\n",
    "                    box_pairs=[(\"Cancer\\ndriver\", \"Other\"), (\"Mendelian\\ndisease\", \"Other\"),\n",
    "                              (\"Cancer\\ndriver\", \"Mendelian\\ndisease\")],\n",
    "                    test='Mann-Whitney',\n",
    "                    text_format='star', loc='outside', verbose=2, linewidth=1,\n",
    "                    line_offset=0.08, text_offset=0.1)\n",
    "plt.ylim(0.1,0.45)\n",
    "\n",
    "plt.subplot(1, 4, 4)\n",
    "df = eigen_df.copy()\n",
    "ax4 = sns.boxplot(x=x, y=y, order=order, data=df, flierprops=flierprops, linewidth=1)\n",
    "plt.xlabel('')\n",
    "plt.ylabel('Eigenvector')\n",
    "plt.xticks(rotation=45)\n",
    "plt.ylim(0,0.00068)\n",
    "add_stat_annotation(ax4, data=df, x=x, y=y, order=order,\n",
    "                    box_pairs=[(\"Cancer\\ndriver\", \"Other\"), (\"Mendelian\\ndisease\", \"Other\"),\n",
    "                              (\"Cancer\\ndriver\", \"Mendelian\\ndisease\")],\n",
    "                    test='Mann-Whitney',\n",
    "                    text_format='star', loc='outside', verbose=2, linewidth=1,\n",
    "                    line_offset=0.08, text_offset=0.1)\n",
    "plt.ylim(0,0.0011)\n",
    "\n",
    "fig.tight_layout()\n",
    "fig.subplots_adjust(wspace=.6)\n",
    "plt.savefig('../out/figures/Fig2.pdf', transparent=True)\n",
    "plt.show()"
   ]
  },
  {
   "cell_type": "code",
   "execution_count": null,
   "metadata": {},
   "outputs": [],
   "source": []
  }
 ],
 "metadata": {
  "kernelspec": {
   "display_name": "Python 3",
   "language": "python",
   "name": "python3"
  },
  "language_info": {
   "codemirror_mode": {
    "name": "ipython",
    "version": 3
   },
   "file_extension": ".py",
   "mimetype": "text/x-python",
   "name": "python",
   "nbconvert_exporter": "python",
   "pygments_lexer": "ipython3",
   "version": "3.7.4"
  }
 },
 "nbformat": 4,
 "nbformat_minor": 2
}
